{
  "cells": [
    {
      "cell_type": "markdown",
      "metadata": {
        "id": "FyUJ3PRAsPr4"
      },
      "source": [
        "##`Q-1:` Rectangle Class\n",
        "1. Write a Rectangle class in Python language, allowing you to build a rectangle with length and width attributes.\n",
        "\n",
        "2. Create a Perimeter() method to calculate the perimeter of the rectangle and a Area() method to calculate the area of ​​the rectangle.\n",
        "\n",
        "3. Create a method display() that display the length, width, perimeter and area of an object created using an instantiation on rectangle class."
      ]
    },
    {
      "cell_type": "markdown",
      "metadata": {
        "id": "GxUtOqJfssFK"
      },
      "source": [
        "Eg.\n",
        "After making above classes and methods, on executing below code:-\n",
        "```\n",
        "my_rectangle = Rectangle(3 , 4)\n",
        "my_rectangle.display()\n",
        "```\n",
        "\n",
        "`Output:`\n",
        "```\n",
        "The length of rectangle is:  3\n",
        "The width of rectangle is:  4\n",
        "The perimeter of rectangle is:  14\n",
        "The area of rectangle is:  12\n",
        "```\n"
      ]
    },
    {
      "cell_type": "code",
      "execution_count": null,
      "metadata": {
        "colab": {
          "base_uri": "https://localhost:8080/"
        },
        "id": "92_QT-Uj6NBg",
        "outputId": "a202f15c-e822-4819-830e-1c05b82c0ebf"
      },
      "outputs": [
        {
          "name": "stdout",
          "output_type": "stream",
          "text": [
            "length 4\n",
            "width 5\n",
            "perimeter 18\n",
            "area 20\n"
          ]
        }
      ],
      "source": [
        "# write your code here\n",
        "\n",
        "class Rectangle():\n",
        "  def __init__(self,l,w):\n",
        "    self.length=l\n",
        "    self.width=w\n",
        "  def Perimeter(self):\n",
        "    return (self.width+self.length)*2\n",
        "  def area(self):\n",
        "    return self.length*self.width\n",
        "  def display(self):\n",
        "    print(f\"The length of rectangle is:{self.length}\\nThe width of rectangle is:{self.width}\\nThe perimeter of rectangle is:{self.Perimeter()} \\nThe area of rectangle is{self.area()}\"),\n",
        "my_rectangle = Rectangle(3 , 4)\n",
        "my_rectangle.display()"
      ]
    },
    {
      "cell_type": "markdown",
      "metadata": {
        "id": "r_GxrS0Vrdom"
      },
      "source": [
        "##`Q-2: Bank Class`\n",
        "\n",
        "1. Create a Python class called `BankAccount` which represents a bank account, having as attributes: `accountNumber` (numeric type), `name` (name of the account owner as string type), `balance`.\n",
        "2. Create a constructor with parameters: `accountNumber, name, balance`.\n",
        "3. Create a `Deposit()` method which manages the deposit actions.\n",
        "4. Create a `Withdrawal()` method  which manages withdrawals actions.\n",
        "5. Create an `bankFees()` method to apply the bank fees with a percentage of 5% of the balance account.\n",
        "6. Create a `display()` method to display account details.\n",
        "Give the complete code for the  BankAccount class."
      ]
    },
    {
      "cell_type": "markdown",
      "metadata": {
        "id": "qvVkOUJgvTV_"
      },
      "source": [
        "Eg.\n",
        "After making above classes and methods, on executing below code:-\n",
        "```\n",
        "newAccount = BankAccount(2178514584, \"Mandy\" , 2800)\n",
        "\n",
        "newAccount.Withdrawal(700)\n",
        "\n",
        "newAccount.Deposit(1000)\n",
        "\n",
        "newAccount.display()\n",
        "```\n",
        "\n",
        "`Output:`\n",
        "```\n",
        "Account Number :  2178514584\n",
        "Account Name :  Mandy\n",
        "Account Balance :  3100 ₹\n",
        "```"
      ]
    },
    {
      "cell_type": "code",
      "execution_count": null,
      "metadata": {
        "colab": {
          "base_uri": "https://localhost:8080/"
        },
        "id": "fUQOmQyA6YDR",
        "outputId": "63a6d822-ec11-42f3-cd7e-357e60dab113"
      },
      "outputs": [
        {
          "name": "stdout",
          "output_type": "stream",
          "text": [
            "Account Number : 1000000\n",
            "Account Name : nitish\n",
            "Account Balance : 855.0 ₹\n"
          ]
        }
      ],
      "source": [
        "# write your code here\n",
        "\n",
        "class Bank:\n",
        "\n",
        "    def __init__(self,name,acc_no,balance):\n",
        "        self.__name = name\n",
        "        self.__acc_no = acc_no\n",
        "        self.__balance = balance\n",
        "\n",
        "    def display(self):\n",
        "        print('Account Number :',self.__acc_no)\n",
        "        print('Account Name :',self.__name)\n",
        "        print('Account Balance :',self.__balance,'₹')\n",
        "\n",
        "    def deposit(self,amount):\n",
        "        self.__balance = self.__balance + amount\n",
        "\n",
        "    def withdrawl(self,amount):\n",
        "        if amount>self.__balance:\n",
        "            print('Insufficient funds')\n",
        "        else:\n",
        "            self.__balance = self.__balance - amount\n",
        "            reduction = self.__bankFees()\n",
        "            self.__balance = self.__balance - reduction\n",
        "\n",
        "    def __bankFees(self):\n",
        "        return 0.05*self.__balance\n",
        "\n",
        "cust = Bank('nitish',1000000,500)\n",
        "cust.deposit(500)\n",
        "cust.withdrawl(100)\n",
        "cust.display()"
      ]
    },
    {
      "cell_type": "markdown",
      "metadata": {
        "id": "QovcQAZTrgGU"
      },
      "source": [
        "##`Q-3:Computation class`\n",
        "\n",
        "1. Create a `Computation` class with a default constructor (without parameters) allowing to perform various calculations on integers numbers.\n",
        "2. Create a method called `Factorial()` which allows to calculate the factorial of an integer n. Integer n as parameter for this method\n",
        "\n",
        "3. Create a method called `naturalSum()` allowing to calculate the sum of the first n integers 1 + 2 + 3 + .. + n. Integer n as parameter for this method.\n",
        "\n",
        "4. Create a method called `testPrime()` in  the Calculation class to test the primality of a given integer n, n is Prime or Not? Integer n as parameter for this method.\n",
        "\n",
        "5. Create  a method called `testPrims()` allowing to test if two numbers are prime between them. Two integers are prime to one another if they have only `1` as their common divisor. Eg. 4 and 9 are prime to each other.\n",
        "\n",
        "5. Create a `tableMult()` method which creates and displays the multiplication table of a given integer. Then create an `allTablesMult()` method to display all the integer multiplication tables 1, 2, 3, ..., 9.\n",
        "\n",
        "6. Create a static `listDiv()` method that gets all the divisors of a given integer on new list called  Ldiv. Create another `listDivPrim()` method that gets all the prime divisors of a given integer."
      ]
    },
    {
      "cell_type": "code",
      "execution_count": null,
      "metadata": {},
      "outputs": [],
      "source": []
    },
    {
      "cell_type": "code",
      "execution_count": null,
      "metadata": {
        "id": "YEkPH70l6Z-o"
      },
      "outputs": [],
      "source": [
        "# write your code here\n",
        "#Write your code here\n",
        "\n",
        "class Computation:\n",
        "    def __init__ (self):\n",
        "        pass\n",
        "# --- Factorial ------------\n",
        "    def factorial(self, n):\n",
        "        j = 1\n",
        "        for i in range (1, n + 1):\n",
        "            j = j * i\n",
        "        return j\n",
        "\n",
        "# --- Sum of the first n numbers ----\n",
        "    def naturalSum(self, n):\n",
        "        j = 1\n",
        "        for i in range (1, n + 1):\n",
        "            j = j + i\n",
        "        return j\n",
        "\n",
        "# --- Primality test of a number ------------\n",
        "    def testPrime(self, n):\n",
        "        j = 0\n",
        "        for i in range (1, n + 1):\n",
        "            if (n% i == 0):\n",
        "                j = j + 1\n",
        "        if (j == 2):\n",
        "            return True\n",
        "        else:\n",
        "            return False\n",
        "\n",
        "# --- Primality test of two integers ------------\n",
        "    def testPrims(self, n, m):\n",
        "\n",
        "        # initialize the number of commons divisors\n",
        "        commonDiv = 0\n",
        "        for i in range (1, n + 1):\n",
        "            if (n% i == 0 and m% i == 0):\n",
        "                commonDiv = commonDiv + 1\n",
        "        if commonDiv == 1:\n",
        "            print (\"The numbers\", n, \"and\", m, \"are co-primes\")\n",
        "        else:\n",
        "            print (\"The numbers\", n, \"and\", m, \"are not co-primes\")\n",
        "\n",
        "#---Multiplication table-------------\n",
        "    def tableMult(self, k):\n",
        "        for i in range (1,10):\n",
        "            print (i, \"x\", k, \"=\", i * k)\n",
        "\n",
        "# --- All multiplication tables of the numbers 1, 2, .., 9\n",
        "    def allTables(self):\n",
        "        for k in range (1,10):\n",
        "            print (\"\\nthe multiplication table of:\", k, \"is:\")\n",
        "            for i in range (1,10):\n",
        "                print (i, \"x\", k, \"=\", i * k)\n",
        "\n",
        "# ----- list of divisors of an integer\n",
        "    def listDivisor(self, n):\n",
        "        # initialization of the list of divisors\n",
        "        lDiv = []\n",
        "        for i in range (1, n + 1):\n",
        "            if (n% i == 0):\n",
        "                lDiv.append (i)\n",
        "        return lDiv\n",
        "\n",
        "# ------ list of prime divisors of an integer ----------------\n",
        "    def listPrimeDivisor(self, n):\n",
        "        # initialization of the list of divisors\n",
        "        lDiv = []\n",
        "        for i in range (1, n + 1):\n",
        "            if (n% i == 0 and self.testPrime(i)):\n",
        "                lDiv.append(i)\n",
        "        return lDiv\n",
        "\n",
        "# Instantiation example\n",
        "Comput= Computation ()\n",
        "Comput.testPrims(13, 7)\n",
        "print (\"List of divisors of 18:\", Comput.listDivisor(18))\n",
        "print (\"List of prime divisors of 18:\", Comput.listPrimeDivisor(18))\n",
        "Comput.allTables()"
      ]
    },
    {
      "cell_type": "markdown",
      "metadata": {
        "id": "0yn23_oEriXa"
      },
      "source": [
        "## `Q-4`: Build flashcard using class in Python.\n",
        "\n",
        "Build a flashcard using class in python. A flashcard is a card having information on both sides, which can be used as an aid in memoization. Flashcards usually have a question on one side and an answer on the other.\n",
        "\n",
        "**Example 1:**\n",
        "\n",
        "Approach:\n",
        "\n",
        "- Create a class named FlashCard.\n",
        "- Initialize dictionary fruits using __init__() method. Here you have to define fruit name as key and it's color as value. E.g., {\"Banana\": \"yellow\", \"Strawberries\": \"pink\"}\n",
        "- Now randomly choose a pair from fruits by using _random_ module and store the key in variable _fruit_ and _value_ in variable color.\n",
        "- Now prompt the user to answer the color of the randomly chosen fruit.\n",
        "- If correct print correct else print wrong.\n",
        "\n",
        "Output:\n",
        "```bash\n",
        "welcome to fruit quiz\n",
        "What is the color of Strawberries\n",
        "pink\n",
        "Correct answer\n",
        "Enter 0, if you want to play again: 0\n",
        "What is the color of watermelon\n",
        "green\n",
        "Correct answer\n",
        "Enter 0, if you want to play again: 1\n",
        "```"
      ]
    },
    {
      "cell_type": "code",
      "execution_count": 4,
      "metadata": {
        "colab": {
          "base_uri": "https://localhost:8080/"
        },
        "id": "vCrUF6VU6l6w",
        "outputId": "10ce9faf-547c-474c-94ba-ffdf973b59bf"
      },
      "outputs": [
        {
          "name": "stdout",
          "output_type": "stream",
          "text": [
            "Welcome to the fruit quiz\n",
            "What is the color of strawberry\n",
            "Galat jawab\n"
          ]
        },
        {
          "ename": "ValueError",
          "evalue": "invalid literal for int() with base 10: ''",
          "output_type": "error",
          "traceback": [
            "\u001b[1;31m---------------------------------------------------------------------------\u001b[0m",
            "\u001b[1;31mValueError\u001b[0m                                Traceback (most recent call last)",
            "Cell \u001b[1;32mIn[4], line 37\u001b[0m\n\u001b[0;32m     35\u001b[0m \u001b[38;5;28mprint\u001b[39m(\u001b[38;5;124m'\u001b[39m\u001b[38;5;124mWelcome to the fruit quiz\u001b[39m\u001b[38;5;124m'\u001b[39m)\n\u001b[0;32m     36\u001b[0m fc \u001b[38;5;241m=\u001b[39m FlashCard()\n\u001b[1;32m---> 37\u001b[0m \u001b[43mfc\u001b[49m\u001b[38;5;241;43m.\u001b[39;49m\u001b[43mquiz\u001b[49m\u001b[43m(\u001b[49m\u001b[43m)\u001b[49m\n",
            "Cell \u001b[1;32mIn[4], line 30\u001b[0m, in \u001b[0;36mFlashCard.quiz\u001b[1;34m(self)\u001b[0m\n\u001b[0;32m     27\u001b[0m \u001b[38;5;28;01melse\u001b[39;00m:\n\u001b[0;32m     28\u001b[0m     \u001b[38;5;28mprint\u001b[39m(\u001b[38;5;124m'\u001b[39m\u001b[38;5;124mGalat jawab\u001b[39m\u001b[38;5;124m'\u001b[39m)\n\u001b[1;32m---> 30\u001b[0m option \u001b[38;5;241m=\u001b[39m \u001b[38;5;28;43mint\u001b[39;49m\u001b[43m(\u001b[49m\u001b[38;5;28;43minput\u001b[39;49m\u001b[43m(\u001b[49m\u001b[38;5;124;43m'\u001b[39;49m\u001b[38;5;124;43menter 0 to play again 1 to exit\u001b[39;49m\u001b[38;5;124;43m'\u001b[39;49m\u001b[43m)\u001b[49m\u001b[43m)\u001b[49m\n\u001b[0;32m     32\u001b[0m \u001b[38;5;28;01mif\u001b[39;00m option:\n\u001b[0;32m     33\u001b[0m     \u001b[38;5;28;01mbreak\u001b[39;00m\n",
            "\u001b[1;31mValueError\u001b[0m: invalid literal for int() with base 10: ''"
          ]
        }
      ],
      "source": [
        "# write your code here\n",
        "import random\n",
        "\n",
        "class FlashCard:\n",
        "\n",
        "    def __init__(self):\n",
        "        self.__fruits = {\n",
        "            'apple':'red',\n",
        "            'banana':'yellow',\n",
        "            'watermelon':'green',\n",
        "            'strawberry':'pink',\n",
        "            'guava':'green'\n",
        "        }\n",
        "\n",
        "    def quiz(self):\n",
        "\n",
        "        while True:\n",
        "\n",
        "            fruit,color = random.choices(list(self.__fruits.items()))[0]\n",
        "            \n",
        "\n",
        "            print('What is the color of {}'.format(fruit))\n",
        "            user_answer = input()\n",
        "\n",
        "            if user_answer.lower() == color:\n",
        "                print('Sahi jawab')\n",
        "            else:\n",
        "                print('Galat jawab')\n",
        "\n",
        "            option = int(input('enter 0 to play again 1 to exit'))\n",
        "\n",
        "            if option:\n",
        "                break\n",
        "\n",
        "print('Welcome to the fruit quiz')\n",
        "fc = FlashCard()\n",
        "fc.quiz()\n",
        "\n"
      ]
    },
    {
      "cell_type": "code",
      "execution_count": null,
      "metadata": {
        "colab": {
          "base_uri": "https://localhost:8080/"
        },
        "id": "2C17k4zMlI0G",
        "outputId": "36e85d27-1b86-46c1-b184-9c269b2d2905"
      },
      "outputs": [
        {
          "name": "stdout",
          "output_type": "stream",
          "text": [
            "guava\n",
            "green\n"
          ]
        }
      ],
      "source": [
        "import random\n",
        "d = {\n",
        "            'apple':'red',\n",
        "            'banana':'yellow',\n",
        "            'watermelon':'green',\n",
        "            'strawberry':'pink',\n",
        "            'guava':'green'\n",
        "        }\n",
        "\n",
        "\n",
        "print(fruit)\n",
        "print(color)"
      ]
    },
    {
      "cell_type": "markdown",
      "metadata": {
        "id": "GN2r0jbRewYr"
      },
      "source": [
        "## `Q-5:` Problem 5 based on OOP Python.\n",
        "\n",
        "TechWorld, a technology training center, wants to allocate courses for instructors. An instructor is identified by name, technology skills, experience and average feedback. An instructor is allocated a course, if he/she satisfies the below two conditions:\n",
        "- eligibility criteria:\n",
        "    - if experience is more than 3 years, average feedback should be 4.5 or more\n",
        "    - if experience is 3 years or less, average feedback should be 4 or more\n",
        "- he/she should posses the technology skill for the course\n",
        "\n",
        "Identify the class name and attributes to represent instructors. Write a Python program to implement the class chosen with its attributes and methods.\n",
        "\n",
        "**Note:**\n",
        "- Consider all instance variables to be private and methods to be public.\n",
        "- An instructor may have multiple technology skills, so consider instance variable, technology_skill to be a list.\n",
        "- *check_eligibility()*: Return true if eligibility criteria is satisfied by the instructor. Else, return false\n",
        "- *allocate_course(technology)*: Return true if the course which requires the given technology can be allocated to the instructor. Else, return false.\n",
        "\n",
        "Represent a few objects of the class, initialize instance variables using setter methods, invoke\n",
        "appropriate methods and test your program."
      ]
    },
    {
      "cell_type": "code",
      "execution_count": 2,
      "metadata": {},
      "outputs": [
        {
          "data": {
            "text/plain": [
              "'Padha sakta hai'"
            ]
          },
          "execution_count": 2,
          "metadata": {},
          "output_type": "execute_result"
        }
      ],
      "source": [
        "class techWorld():\n",
        "    def __init__(self,name,technology,exp,fed) -> None:\n",
        "        self.__name=name \n",
        "        self.__technology_skill=technology \n",
        "        self.__experience=exp\n",
        "        self.__feedback=fed\n",
        "    def eligibility_criteria(self):\n",
        "        if self.__experience>3 and self.__feedback>=4.5:\n",
        "            return True\n",
        "        elif self.__experience<=3 and self.__feedback>=4:\n",
        "            return True\n",
        "        else:\n",
        "            return False\n",
        "    def allocate_course(self,tech):\n",
        "        is_eligible=self.eligibility_criteria()\n",
        "        if is_eligible:\n",
        "            if tech in self.__technology_skill:\n",
        "                return 'Padha sakta hai'\n",
        "            else:\n",
        "                return 'Ye to usko aata hi nai hai'\n",
        "        else:\n",
        "            return 'acha nai padhata hai'\n",
        "ins = techWorld('Nitish',['Data Science','Web Development'],5,4.9)\n",
        "ins.allocate_course('Data Science')\n",
        "\n"
      ]
    }
  ],
  "metadata": {
    "colab": {
      "provenance": []
    },
    "kernelspec": {
      "display_name": "Python 3",
      "name": "python3"
    },
    "language_info": {
      "codemirror_mode": {
        "name": "ipython",
        "version": 3
      },
      "file_extension": ".py",
      "mimetype": "text/x-python",
      "name": "python",
      "nbconvert_exporter": "python",
      "pygments_lexer": "ipython3",
      "version": "3.11.1"
    }
  },
  "nbformat": 4,
  "nbformat_minor": 0
}
